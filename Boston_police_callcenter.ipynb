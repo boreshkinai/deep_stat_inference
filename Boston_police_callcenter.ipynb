{
 "cells": [
  {
   "cell_type": "markdown",
   "metadata": {
    "collapsed": true
   },
   "source": [
    "#Problem description\n",
    "\n",
    "##Context\n",
    "Police deparments are stirving to implement more automated and predictive data systems into their everyday processes to reduce crime and deploy scarce resources more efficiently. This provides an opportunity for more proactive policing if it were possible to alert\n",
    "resources of abnormal patterns in the data as they occur. Boston police department released public dataset with crime incident reports reported to its 911 call center.\n",
    "https://data.cityofboston.gov/Public-Safety/Crime-Incident-Reports/7cdf-6fgx\n",
    "\n",
    "##Challenge\n",
    "Examine the dataset and point out any inconsistencies and trends that you see\n"
   ]
  },
  {
   "cell_type": "code",
   "execution_count": 20,
   "metadata": {},
   "outputs": [],
   "source": [
    "import numpy as np\n",
    "import pandas as pd\n",
    "import numpy.random as nprnd\n",
    "import scipy.stats as stats\n",
    "import matplotlib.pyplot as plt\n",
    "\n",
    "FILE_NAME = 'Data/Crime_Incident_Reports.csv'"
   ]
  },
  {
   "cell_type": "markdown",
   "metadata": {},
   "source": [
    "#Load Data\n",
    "Using statndard tools as much as possible, avoiding using hand written parsers"
   ]
  },
  {
   "cell_type": "code",
   "execution_count": 35,
   "metadata": {},
   "outputs": [
    {
     "name": "stderr",
     "output_type": "stream",
     "text": [
      "/home/boris/keras-environment/lib/python3.5/site-packages/IPython/core/interactiveshell.py:2717: DtypeWarning: Columns (10) have mixed types. Specify dtype option on import or set low_memory=False.\n  interactivity=interactivity, compiler=compiler, result=result)\n"
     ]
    },
    {
     "data": {
      "text/plain": [
       "Index(['COMPNOS', 'NatureCode', 'INCIDENT_TYPE_DESCRIPTION', 'MAIN_CRIMECODE',\n       'REPTDISTRICT', 'REPORTINGAREA', 'FROMDATE', 'WEAPONTYPE', 'Shooting',\n       'DOMESTIC', 'SHIFT', 'Year', 'Month', 'DAY_WEEK', 'UCRPART', 'X', 'Y',\n       'STREETNAME', 'XSTREETNAME', 'Location'],\n      dtype='object')"
      ]
     },
     "execution_count": 35,
     "metadata": {},
     "output_type": "execute_result"
    }
   ],
   "source": [
    "df = pd.read_csv(FILE_NAME)\n",
    "df.columns"
   ]
  },
  {
   "cell_type": "markdown",
   "metadata": {},
   "source": [
    "#Check data completeness\n",
    "This looks like a reasonably clean dataset with exception of field XSTREETNAME. Many of the fields are 100% complete, most of the fields are at least about 95% complete"
   ]
  },
  {
   "cell_type": "code",
   "execution_count": 34,
   "metadata": {
    "collapsed": true
   },
   "outputs": [
    {
     "data": {
      "text/plain": [
       "COMPNOS                       95.4\nNatureCode                    99.4\nINCIDENT_TYPE_DESCRIPTION    100.0\nMAIN_CRIMECODE               100.0\nREPTDISTRICT                  99.9\nREPORTINGAREA                100.0\nFROMDATE                     100.0\nWEAPONTYPE                   100.0\nShooting                     100.0\nDOMESTIC                     100.0\nSHIFT                         95.4\nYear                         100.0\nMonth                        100.0\nDAY_WEEK                     100.0\nUCRPART                      100.0\nX                             94.4\nY                             94.4\nSTREETNAME                    99.9\nXSTREETNAME                   18.2\nLocation                     100.0\ndtype: float64"
      ]
     },
     "execution_count": 34,
     "metadata": {},
     "output_type": "execute_result"
    }
   ],
   "source": [
    "round(1000*df.count()/len(df))/10"
   ]
  },
  {
   "cell_type": "markdown",
   "metadata": {},
   "source": [
    "#Districts\n",
    "First, we see that incidents are reported by DISTRICT. In order to conduct quick analysis, we concentrate on the district with the highest count of events. We can check if trends change on the district by district basis later, when we do a more detailed analysis. Below we compute call counts by district and make a bar plot of counts. It looks like B2 is the district with most counts. We filter the full dataset and retain only rows originating from district B2."
   ]
  },
  {
   "cell_type": "code",
   "execution_count": 27,
   "metadata": {},
   "outputs": [
    {
     "data": {
      "image/png": "[encoded data removed]",
      "text/plain": [
       "<matplotlib.figure.Figure at 0x7f5b099ed5f8>"
      ]
     },
     "metadata": {},
     "output_type": "display_data"
    }
   ],
   "source": [
    "num_counts = df.groupby('REPTDISTRICT').count().max(axis=1)\n",
    "num_counts.plot(kind='bar', title=\"Percent of non-null values\", use_index=True, figsize=(30, 5))\n",
    "plt.xticks(rotation=0)\n",
    "plt.show()"
   ]
  },
  {
   "cell_type": "code",
   "execution_count": 26,
   "metadata": {},
   "outputs": [
    {
     "data": {
      "text/html": [
       "<div>\n",
       "<table border=\"1\" class=\"dataframe\">\n",
       "  <thead>\n",
       "    <tr style=\"text-align: right;\">\n",
       "      <th></th>\n",
       "      <th>COMPNOS</th>\n",
       "      <th>NatureCode</th>\n",
       "      <th>INCIDENT_TYPE_DESCRIPTION</th>\n",
       "      <th>MAIN_CRIMECODE</th>\n",
       "      <th>REPTDISTRICT</th>\n",
       "      <th>REPORTINGAREA</th>\n",
       "      <th>FROMDATE</th>\n",
       "      <th>WEAPONTYPE</th>\n",
       "      <th>Shooting</th>\n",
       "      <th>DOMESTIC</th>\n",
       "      <th>SHIFT</th>\n",
       "      <th>Year</th>\n",
       "      <th>Month</th>\n",
       "      <th>DAY_WEEK</th>\n",
       "      <th>UCRPART</th>\n",
       "      <th>X</th>\n",
       "      <th>Y</th>\n",
       "      <th>STREETNAME</th>\n",
       "      <th>XSTREETNAME</th>\n",
       "      <th>Location</th>\n",
       "    </tr>\n",
       "  </thead>\n",
       "  <tbody>\n",
       "    <tr>\n",
       "      <th>1</th>\n",
       "      <td>120419202.0</td>\n",
       "      <td>PSHOT</td>\n",
       "      <td>AGGRAVATED ASSAULT</td>\n",
       "      <td>04xx</td>\n",
       "      <td>B2</td>\n",
       "      <td>327</td>\n",
       "      <td>07/08/2012 06:03:00 AM</td>\n",
       "      <td>Firearm</td>\n",
       "      <td>Yes</td>\n",
       "      <td>No</td>\n",
       "      <td>Last</td>\n",
       "      <td>2012</td>\n",
       "      <td>7</td>\n",
       "      <td>Sunday</td>\n",
       "      <td>Part One</td>\n",
       "      <td>771223.1638</td>\n",
       "      <td>2940772.099</td>\n",
       "      <td>HOWARD AV</td>\n",
       "      <td>NaN</td>\n",
       "      <td>(42.31684135, -71.07458456)</td>\n",
       "    </tr>\n",
       "    <tr>\n",
       "      <th>3</th>\n",
       "      <td>120419223.0</td>\n",
       "      <td>ALARMC</td>\n",
       "      <td>COMMERCIAL BURGLARY</td>\n",
       "      <td>05CB</td>\n",
       "      <td>B2</td>\n",
       "      <td>258</td>\n",
       "      <td>07/08/2012 06:56:00 AM</td>\n",
       "      <td>Other</td>\n",
       "      <td>No</td>\n",
       "      <td>No</td>\n",
       "      <td>Last</td>\n",
       "      <td>2012</td>\n",
       "      <td>7</td>\n",
       "      <td>Sunday</td>\n",
       "      <td>Part One</td>\n",
       "      <td>773591.8648</td>\n",
       "      <td>2940638.174</td>\n",
       "      <td>COLUMBIA RD</td>\n",
       "      <td>NaN</td>\n",
       "      <td>(42.3164411, -71.06582908)</td>\n",
       "    </tr>\n",
       "    <tr>\n",
       "      <th>6</th>\n",
       "      <td>120419257.0</td>\n",
       "      <td>ARMROB</td>\n",
       "      <td>ROBBERY</td>\n",
       "      <td>03xx</td>\n",
       "      <td>B2</td>\n",
       "      <td>295</td>\n",
       "      <td>07/08/2012 07:50:00 AM</td>\n",
       "      <td>Firearm</td>\n",
       "      <td>No</td>\n",
       "      <td>No</td>\n",
       "      <td>Day</td>\n",
       "      <td>2012</td>\n",
       "      <td>7</td>\n",
       "      <td>Sunday</td>\n",
       "      <td>Part One</td>\n",
       "      <td>768066.0298</td>\n",
       "      <td>2943456.962</td>\n",
       "      <td>REGENT ST</td>\n",
       "      <td>HERMAN ST</td>\n",
       "      <td>(42.32425136, -71.08620956)</td>\n",
       "    </tr>\n",
       "    <tr>\n",
       "      <th>18</th>\n",
       "      <td>120419382.0</td>\n",
       "      <td>IVMV</td>\n",
       "      <td>WEAPONS CHARGE</td>\n",
       "      <td>15xx</td>\n",
       "      <td>B2</td>\n",
       "      <td>296</td>\n",
       "      <td>07/08/2012 09:55:00 AM</td>\n",
       "      <td>Firearm</td>\n",
       "      <td>No</td>\n",
       "      <td>No</td>\n",
       "      <td>Day</td>\n",
       "      <td>2012</td>\n",
       "      <td>7</td>\n",
       "      <td>Sunday</td>\n",
       "      <td>Part Two</td>\n",
       "      <td>769233.4040</td>\n",
       "      <td>2942533.368</td>\n",
       "      <td>WARREN ST</td>\n",
       "      <td>COPELAND ST</td>\n",
       "      <td>(42.32170135, -71.08190956)</td>\n",
       "    </tr>\n",
       "    <tr>\n",
       "      <th>20</th>\n",
       "      <td>120419772.0</td>\n",
       "      <td>INJOFF</td>\n",
       "      <td>MedAssist</td>\n",
       "      <td>MedAssist</td>\n",
       "      <td>B2</td>\n",
       "      <td>296</td>\n",
       "      <td>07/08/2012 10:00:00 AM</td>\n",
       "      <td>Unarmed</td>\n",
       "      <td>No</td>\n",
       "      <td>No</td>\n",
       "      <td>Day</td>\n",
       "      <td>2012</td>\n",
       "      <td>7</td>\n",
       "      <td>Sunday</td>\n",
       "      <td>Part Three</td>\n",
       "      <td>769183.8241</td>\n",
       "      <td>2942717.161</td>\n",
       "      <td>WARREN ST</td>\n",
       "      <td>NaN</td>\n",
       "      <td>(42.32220635, -71.08208955)</td>\n",
       "    </tr>\n",
       "  </tbody>\n",
       "</table>\n",
       "</div>"
      ],
      "text/plain": [
       "<div>\n",
       "<table border=\"1\" class=\"dataframe\">\n",
       "  <thead>\n",
       "    <tr style=\"text-align: right;\">\n",
       "      <th></th>\n",
       "      <th>COMPNOS</th>\n",
       "      <th>NatureCode</th>\n",
       "      <th>INCIDENT_TYPE_DESCRIPTION</th>\n",
       "      <th>MAIN_CRIMECODE</th>\n",
       "      <th>REPTDISTRICT</th>\n",
       "      <th>REPORTINGAREA</th>\n",
       "      <th>FROMDATE</th>\n",
       "      <th>WEAPONTYPE</th>\n",
       "      <th>Shooting</th>\n",
       "      <th>DOMESTIC</th>\n",
       "      <th>SHIFT</th>\n",
       "      <th>Year</th>\n",
       "      <th>Month</th>\n",
       "      <th>DAY_WEEK</th>\n",
       "      <th>UCRPART</th>\n",
       "      <th>X</th>\n",
       "      <th>Y</th>\n",
       "      <th>STREETNAME</th>\n",
       "      <th>XSTREETNAME</th>\n",
       "      <th>Location</th>\n",
       "    </tr>\n",
       "  </thead>\n",
       "  <tbody>\n",
       "    <tr>\n",
       "      <th>1</th>\n",
       "      <td>120419202.0</td>\n",
       "      <td>PSHOT</td>\n",
       "      <td>AGGRAVATED ASSAULT</td>\n",
       "      <td>04xx</td>\n",
       "      <td>B2</td>\n",
       "      <td>327</td>\n",
       "      <td>07/08/2012 06:03:00 AM</td>\n",
       "      <td>Firearm</td>\n",
       "      <td>Yes</td>\n",
       "      <td>No</td>\n",
       "      <td>Last</td>\n",
       "      <td>2012</td>\n",
       "      <td>7</td>\n",
       "      <td>Sunday</td>\n",
       "      <td>Part One</td>\n",
       "      <td>771223.1638</td>\n",
       "      <td>2940772.099</td>\n",
       "      <td>HOWARD AV</td>\n",
       "      <td>NaN</td>\n",
       "      <td>(42.31684135, -71.07458456)</td>\n",
       "    </tr>\n",
       "    <tr>\n",
       "      <th>3</th>\n",
       "      <td>120419223.0</td>\n",
       "      <td>ALARMC</td>\n",
       "      <td>COMMERCIAL BURGLARY</td>\n",
       "      <td>05CB</td>\n",
       "      <td>B2</td>\n",
       "      <td>258</td>\n",
       "      <td>07/08/2012 06:56:00 AM</td>\n",
       "      <td>Other</td>\n",
       "      <td>No</td>\n",
       "      <td>No</td>\n",
       "      <td>Last</td>\n",
       "      <td>2012</td>\n",
       "      <td>7</td>\n",
       "      <td>Sunday</td>\n",
       "      <td>Part One</td>\n",
       "      <td>773591.8648</td>\n",
       "      <td>2940638.174</td>\n",
       "      <td>COLUMBIA RD</td>\n",
       "      <td>NaN</td>\n",
       "      <td>(42.3164411, -71.06582908)</td>\n",
       "    </tr>\n",
       "    <tr>\n",
       "      <th>6</th>\n",
       "      <td>120419257.0</td>\n",
       "      <td>ARMROB</td>\n",
       "      <td>ROBBERY</td>\n",
       "      <td>03xx</td>\n",
       "      <td>B2</td>\n",
       "      <td>295</td>\n",
       "      <td>07/08/2012 07:50:00 AM</td>\n",
       "      <td>Firearm</td>\n",
       "      <td>No</td>\n",
       "      <td>No</td>\n",
       "      <td>Day</td>\n",
       "      <td>2012</td>\n",
       "      <td>7</td>\n",
       "      <td>Sunday</td>\n",
       "      <td>Part One</td>\n",
       "      <td>768066.0298</td>\n",
       "      <td>2943456.962</td>\n",
       "      <td>REGENT ST</td>\n",
       "      <td>HERMAN ST</td>\n",
       "      <td>(42.32425136, -71.08620956)</td>\n",
       "    </tr>\n",
       "    <tr>\n",
       "      <th>18</th>\n",
       "      <td>120419382.0</td>\n",
       "      <td>IVMV</td>\n",
       "      <td>WEAPONS CHARGE</td>\n",
       "      <td>15xx</td>\n",
       "      <td>B2</td>\n",
       "      <td>296</td>\n",
       "      <td>07/08/2012 09:55:00 AM</td>\n",
       "      <td>Firearm</td>\n",
       "      <td>No</td>\n",
       "      <td>No</td>\n",
       "      <td>Day</td>\n",
       "      <td>2012</td>\n",
       "      <td>7</td>\n",
       "      <td>Sunday</td>\n",
       "      <td>Part Two</td>\n",
       "      <td>769233.4040</td>\n",
       "      <td>2942533.368</td>\n",
       "      <td>WARREN ST</td>\n",
       "      <td>COPELAND ST</td>\n",
       "      <td>(42.32170135, -71.08190956)</td>\n",
       "    </tr>\n",
       "    <tr>\n",
       "      <th>20</th>\n",
       "      <td>120419772.0</td>\n",
       "      <td>INJOFF</td>\n",
       "      <td>MedAssist</td>\n",
       "      <td>MedAssist</td>\n",
       "      <td>B2</td>\n",
       "      <td>296</td>\n",
       "      <td>07/08/2012 10:00:00 AM</td>\n",
       "      <td>Unarmed</td>\n",
       "      <td>No</td>\n",
       "      <td>No</td>\n",
       "      <td>Day</td>\n",
       "      <td>2012</td>\n",
       "      <td>7</td>\n",
       "      <td>Sunday</td>\n",
       "      <td>Part Three</td>\n",
       "      <td>769183.8241</td>\n",
       "      <td>2942717.161</td>\n",
       "      <td>WARREN ST</td>\n",
       "      <td>NaN</td>\n",
       "      <td>(42.32220635, -71.08208955)</td>\n",
       "    </tr>\n",
       "  </tbody>\n",
       "</table>\n",
       "</div>"
      ]
     },
     "execution_count": 26,
     "metadata": {},
     "output_type": "execute_result"
    }
   ],
   "source": [
    "df_B2 = df[df['REPTDISTRICT'] == 'B2']\n",
    "df_B2.head()"
   ]
  },
  {
   "cell_type": "markdown",
   "metadata": {},
   "source": [
    "#Now check the time range\n",
    "If we decide to learn a model on this dataset it is generally necessary to know how much data in terms of years we have. Typically in time series applications like this we would like to split the dataset into train and test based on time. This is to control for the dynamic changes in the system we observe and assess how well they are captured by the model. We can see that we have over 3 years of data. This may or may not be enough for modeling depending on which trends we see in the data and on the complexity of models we consider."
   ]
  },
  {
   "cell_type": "code",
   "execution_count": 50,
   "metadata": {},
   "outputs": [
    {
     "name": "stdout",
     "output_type": "stream",
     "text": [
      "Start date: 2012-07-08 06:03:00 End date:  2015-08-10 04:48:00\n"
     ]
    }
   ],
   "source": [
    "df_B2['FROMDATE'] = pd.to_datetime(df_B2['FROMDATE'])\n",
    "print('Start date:', df_B2['FROMDATE'].min(), 'End date: ', df_B2['FROMDATE'].max())"
   ]
  },
  {
   "cell_type": "code",
   "execution_count": null,
   "metadata": {},
   "outputs": [],
   "source": [
    ""
   ]
  }
 ],
 "metadata": {
  "kernelspec": {
   "display_name": "Python 2",
   "language": "python",
   "name": "python2"
  },
  "language_info": {
   "codemirror_mode": {
    "name": "ipython",
    "version": 2.0
   },
   "file_extension": ".py",
   "mimetype": "text/x-python",
   "name": "python",
   "nbconvert_exporter": "python",
   "pygments_lexer": "ipython2",
   "version": "2.7.6"
  }
 },
 "nbformat": 4,
 "nbformat_minor": 0
}